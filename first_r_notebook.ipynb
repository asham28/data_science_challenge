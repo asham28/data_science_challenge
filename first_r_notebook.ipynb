{
 "cells": [
  {
   "cell_type": "code",
   "execution_count": null,
   "id": "ad87186a",
   "metadata": {
    "scrolled": true
   },
   "outputs": [],
   "source": [
    "options(warn=-1)"
   ]
  },
  {
   "cell_type": "code",
   "execution_count": 20,
   "id": "a4ec0716",
   "metadata": {},
   "outputs": [],
   "source": [
    "library(tidyverse)"
   ]
  },
  {
   "cell_type": "code",
   "execution_count": 30,
   "id": "9af22193",
   "metadata": {},
   "outputs": [
    {
     "name": "stderr",
     "output_type": "stream",
     "text": [
      "Parsed with column specification:\n",
      "cols(\n",
      "  order_id = col_double(),\n",
      "  shop_id = col_double(),\n",
      "  user_id = col_double(),\n",
      "  order_amount = col_double(),\n",
      "  total_items = col_double(),\n",
      "  payment_method = col_character(),\n",
      "  created_at = col_character()\n",
      ")\n"
     ]
    }
   ],
   "source": [
    "aov = read_csv(\"aov.csv\")"
   ]
  },
  {
   "cell_type": "code",
   "execution_count": 32,
   "id": "b8104209",
   "metadata": {},
   "outputs": [
    {
     "data": {
      "text/html": [
       "<table>\n",
       "<thead><tr><th scope=col>order_id</th><th scope=col>shop_id</th><th scope=col>user_id</th><th scope=col>order_amount</th><th scope=col>total_items</th><th scope=col>payment_method</th><th scope=col>created_at</th></tr></thead>\n",
       "<tbody>\n",
       "\t<tr><td>1                  </td><td>53                 </td><td>746                </td><td>224                </td><td>2                  </td><td>cash               </td><td>2017-03-13 12:36:56</td></tr>\n",
       "\t<tr><td>2                  </td><td>92                 </td><td>925                </td><td> 90                </td><td>1                  </td><td>cash               </td><td>2017-03-03 17:38:52</td></tr>\n",
       "\t<tr><td>3                  </td><td>44                 </td><td>861                </td><td>144                </td><td>1                  </td><td>cash               </td><td>2017-03-14 4:23:56 </td></tr>\n",
       "\t<tr><td>4                  </td><td>18                 </td><td>935                </td><td>156                </td><td>1                  </td><td>credit_card        </td><td>2017-03-26 12:43:37</td></tr>\n",
       "\t<tr><td>5                  </td><td>18                 </td><td>883                </td><td>156                </td><td>1                  </td><td>credit_card        </td><td>2017-03-01 4:35:11 </td></tr>\n",
       "\t<tr><td>6                  </td><td>58                 </td><td>882                </td><td>138                </td><td>1                  </td><td>credit_card        </td><td>2017-03-14 15:25:01</td></tr>\n",
       "</tbody>\n",
       "</table>\n"
      ],
      "text/latex": [
       "\\begin{tabular}{r|lllllll}\n",
       " order\\_id & shop\\_id & user\\_id & order\\_amount & total\\_items & payment\\_method & created\\_at\\\\\n",
       "\\hline\n",
       "\t 1                   & 53                  & 746                 & 224                 & 2                   & cash                & 2017-03-13 12:36:56\\\\\n",
       "\t 2                   & 92                  & 925                 &  90                 & 1                   & cash                & 2017-03-03 17:38:52\\\\\n",
       "\t 3                   & 44                  & 861                 & 144                 & 1                   & cash                & 2017-03-14 4:23:56 \\\\\n",
       "\t 4                   & 18                  & 935                 & 156                 & 1                   & credit\\_card       & 2017-03-26 12:43:37\\\\\n",
       "\t 5                   & 18                  & 883                 & 156                 & 1                   & credit\\_card       & 2017-03-01 4:35:11 \\\\\n",
       "\t 6                   & 58                  & 882                 & 138                 & 1                   & credit\\_card       & 2017-03-14 15:25:01\\\\\n",
       "\\end{tabular}\n"
      ],
      "text/markdown": [
       "\n",
       "| order_id | shop_id | user_id | order_amount | total_items | payment_method | created_at |\n",
       "|---|---|---|---|---|---|---|\n",
       "| 1                   | 53                  | 746                 | 224                 | 2                   | cash                | 2017-03-13 12:36:56 |\n",
       "| 2                   | 92                  | 925                 |  90                 | 1                   | cash                | 2017-03-03 17:38:52 |\n",
       "| 3                   | 44                  | 861                 | 144                 | 1                   | cash                | 2017-03-14 4:23:56  |\n",
       "| 4                   | 18                  | 935                 | 156                 | 1                   | credit_card         | 2017-03-26 12:43:37 |\n",
       "| 5                   | 18                  | 883                 | 156                 | 1                   | credit_card         | 2017-03-01 4:35:11  |\n",
       "| 6                   | 58                  | 882                 | 138                 | 1                   | credit_card         | 2017-03-14 15:25:01 |\n",
       "\n"
      ],
      "text/plain": [
       "  order_id shop_id user_id order_amount total_items payment_method\n",
       "1 1        53      746     224          2           cash          \n",
       "2 2        92      925      90          1           cash          \n",
       "3 3        44      861     144          1           cash          \n",
       "4 4        18      935     156          1           credit_card   \n",
       "5 5        18      883     156          1           credit_card   \n",
       "6 6        58      882     138          1           credit_card   \n",
       "  created_at         \n",
       "1 2017-03-13 12:36:56\n",
       "2 2017-03-03 17:38:52\n",
       "3 2017-03-14 4:23:56 \n",
       "4 2017-03-26 12:43:37\n",
       "5 2017-03-01 4:35:11 \n",
       "6 2017-03-14 15:25:01"
      ]
     },
     "metadata": {},
     "output_type": "display_data"
    }
   ],
   "source": [
    "head(aov)"
   ]
  },
  {
   "cell_type": "code",
   "execution_count": 33,
   "id": "bf59b2f8",
   "metadata": {},
   "outputs": [
    {
     "data": {
      "text/html": [
       "<table>\n",
       "<thead><tr><th scope=col>mean</th><th scope=col>median</th></tr></thead>\n",
       "<tbody>\n",
       "\t<tr><td>3145.128</td><td>284     </td></tr>\n",
       "</tbody>\n",
       "</table>\n"
      ],
      "text/latex": [
       "\\begin{tabular}{r|ll}\n",
       " mean & median\\\\\n",
       "\\hline\n",
       "\t 3145.128 & 284     \\\\\n",
       "\\end{tabular}\n"
      ],
      "text/markdown": [
       "\n",
       "| mean | median |\n",
       "|---|---|\n",
       "| 3145.128 | 284      |\n",
       "\n"
      ],
      "text/plain": [
       "  mean     median\n",
       "1 3145.128 284   "
      ]
     },
     "metadata": {},
     "output_type": "display_data"
    }
   ],
   "source": [
    "aov %>%\n",
    "  summarise(\n",
    "    mean = mean(order_amount), # 3145.12\n",
    "    median = median(order_amount)\n",
    "  ) "
   ]
  },
  {
   "cell_type": "code",
   "execution_count": null,
   "id": "a6f22799",
   "metadata": {},
   "outputs": [],
   "source": []
  }
 ],
 "metadata": {
  "kernelspec": {
   "display_name": "R",
   "language": "R",
   "name": "ir"
  },
  "language_info": {
   "codemirror_mode": "r",
   "file_extension": ".r",
   "mimetype": "text/x-r-source",
   "name": "R",
   "pygments_lexer": "r",
   "version": "3.6.1"
  }
 },
 "nbformat": 4,
 "nbformat_minor": 5
}
